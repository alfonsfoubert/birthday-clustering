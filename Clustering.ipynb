{
 "cells": [
  {
   "cell_type": "markdown",
   "metadata": {},
   "source": [
    "## Clustering Birthdays\n",
    "The algorithm I chose to use was K-Means.\n",
    "\n",
    "It's easy to use and comes built-in with the ```sklearn``` toolkit which I already know a bit.\n",
    "\n",
    "### Step One - Import the Required Libraries\n",
    "Easy as pie"
   ]
  },
  {
   "cell_type": "code",
   "execution_count": 1,
   "metadata": {},
   "outputs": [],
   "source": [
    "import math\n",
    "import numpy as np\n",
    "import pandas as pd\n",
    "import matplotlib.pyplot as plt\n",
    "from datetime import datetime, date, timedelta\n",
    "from sklearn.cluster import KMeans\n",
    "%matplotlib inline"
   ]
  },
  {
   "cell_type": "markdown",
   "metadata": {},
   "source": [
    "### Step Two - Load the Data\n",
    "We're going to use Pandas to read the data from a CSV"
   ]
  },
  {
   "cell_type": "code",
   "execution_count": 2,
   "metadata": {},
   "outputs": [
    {
     "data": {
      "text/html": [
       "<div>\n",
       "<style scoped>\n",
       "    .dataframe tbody tr th:only-of-type {\n",
       "        vertical-align: middle;\n",
       "    }\n",
       "\n",
       "    .dataframe tbody tr th {\n",
       "        vertical-align: top;\n",
       "    }\n",
       "\n",
       "    .dataframe thead th {\n",
       "        text-align: right;\n",
       "    }\n",
       "</style>\n",
       "<table border=\"1\" class=\"dataframe\">\n",
       "  <thead>\n",
       "    <tr style=\"text-align: right;\">\n",
       "      <th></th>\n",
       "      <th>Name</th>\n",
       "      <th>Birthday</th>\n",
       "    </tr>\n",
       "  </thead>\n",
       "  <tbody>\n",
       "    <tr>\n",
       "      <th>0</th>\n",
       "      <td>Blanca</td>\n",
       "      <td>1/5/2016</td>\n",
       "    </tr>\n",
       "    <tr>\n",
       "      <th>1</th>\n",
       "      <td>Jaume</td>\n",
       "      <td>3/1/2016</td>\n",
       "    </tr>\n",
       "    <tr>\n",
       "      <th>2</th>\n",
       "      <td>Erik</td>\n",
       "      <td>4/5/2016</td>\n",
       "    </tr>\n",
       "    <tr>\n",
       "      <th>3</th>\n",
       "      <td>Sira</td>\n",
       "      <td>4/23/2016</td>\n",
       "    </tr>\n",
       "    <tr>\n",
       "      <th>4</th>\n",
       "      <td>Roc</td>\n",
       "      <td>5/1/2016</td>\n",
       "    </tr>\n",
       "  </tbody>\n",
       "</table>\n",
       "</div>"
      ],
      "text/plain": [
       "     Name   Birthday\n",
       "0  Blanca   1/5/2016\n",
       "1   Jaume   3/1/2016\n",
       "2    Erik   4/5/2016\n",
       "3    Sira  4/23/2016\n",
       "4     Roc   5/1/2016"
      ]
     },
     "execution_count": 2,
     "metadata": {},
     "output_type": "execute_result"
    }
   ],
   "source": [
    "# Loading Dataset\n",
    "df = pd.read_csv(\"Birthdays.csv\")\n",
    "df.head()"
   ]
  },
  {
   "cell_type": "markdown",
   "metadata": {},
   "source": [
    "### Step Three - Process the data\n",
    "My first thought was to use the day of the year as the only dimension to use"
   ]
  },
  {
   "cell_type": "code",
   "execution_count": 3,
   "metadata": {},
   "outputs": [
    {
     "name": "stdout",
     "output_type": "stream",
     "text": [
      "[  5  61  96 114 122 138 161 168 237 264 335 341 347 347 362 363 364]\n"
     ]
    }
   ],
   "source": [
    "# Day of the year\n",
    "toDayOfYear = lambda t: pd.to_datetime(t).timetuple().tm_yday\n",
    "daysOfYear  = np.array([toDayOfYear(xi) for xi in df.Birthday])\n",
    "print(daysOfYear)"
   ]
  },
  {
   "cell_type": "markdown",
   "metadata": {},
   "source": [
    "And while this sounds good my, very clever, wife pointed at me that this is not linear because we're going to be seeing the same kids every year for the following years so my approach wouldn't work.\n",
    "\n",
    "![Facepalm](https://www.alfonsfoubert.com/wp-content/uploads/2019/11/facepalm.jpg \"Facepalm\")\n",
    "\n",
    "After crying for a while I decided then to use polar coordinates to create a circle.\n",
    "\n",
    "First we would transform the days into degrees, then I would calculate the x and y with the simple equations:\n",
    "$$x=r\\cos(\\alpha)$$\n",
    "$$y=r\\sin(\\alpha)$$\n",
    "\n",
    "Let's see how it looks..."
   ]
  },
  {
   "cell_type": "code",
   "execution_count": 4,
   "metadata": {},
   "outputs": [
    {
     "data": {
      "text/plain": [
       "<matplotlib.collections.PathCollection at 0x12bfda978>"
      ]
     },
     "execution_count": 4,
     "metadata": {},
     "output_type": "execute_result"
    },
    {
     "data": {
      "image/png": "[encoded data removed]",
      "text/plain": [
       "<Figure size 864x864 with 1 Axes>"
      ]
     },
     "metadata": {
      "needs_background": "light"
     },
     "output_type": "display_data"
    }
   ],
   "source": [
    "# Normalize to Degrees\n",
    "normalize = lambda t: (360 * t) / 365\n",
    "\n",
    "# Coordinates\n",
    "coords = lambda t: [math.cos(t), math.sin(t)]\n",
    "\n",
    "# Transformation\n",
    "X = np.array([coords(math.radians(normalize(xi))) for xi in daysOfYear])\n",
    "\n",
    "# Plot Chart\n",
    "plt.figure(figsize=(12, 12))\n",
    "plt.subplot(221)\n",
    "plt.scatter(X[:, 0], X[:, 1])"
   ]
  },
  {
   "cell_type": "markdown",
   "metadata": {},
   "source": [
    "**Great!**\n",
    "We now have a circular distribution we can work with, so let's move on.\n",
    "\n",
    "### Step Four - Create the Algorithm\n",
    "\n",
    "We'll use the K-Means algorithm and will decide to start by saying we're going to have 5 birthday parties every year. That's the number of clusters you want the algorithm to use."
   ]
  },
  {
   "cell_type": "code",
   "execution_count": 5,
   "metadata": {},
   "outputs": [
    {
     "data": {
      "image/png": "[encoded data removed]",
      "text/plain": [
       "<Figure size 864x864 with 1 Axes>"
      ]
     },
     "metadata": {
      "needs_background": "light"
     },
     "output_type": "display_data"
    }
   ],
   "source": [
    "# Amount of Birthday Parties we want to have\n",
    "birthdayParties = 5\n",
    "\n",
    "# K-Means Algorithm\n",
    "kmeans = KMeans(n_clusters=birthdayParties)\n",
    "y_pred = kmeans.fit_predict(X)\n",
    "\n",
    "# Plot Chart\n",
    "plt.figure(figsize=(12, 12))\n",
    "plt.subplot(221)\n",
    "plt.scatter(X[:, 0], X[:, 1], c=y_pred)\n",
    "\n",
    "# Print Names\n",
    "for i, txt in enumerate(df.Name):\n",
    "    plt.annotate(txt, (X[i][0]+0.05, X[i][1]-0.02))"
   ]
  },
  {
   "cell_type": "markdown",
   "metadata": {},
   "source": [
    "**And ... Voila!**\n",
    "\n",
    "We got it, the last item on the list would be to print the best days of the year to have the birthday parties which in our case are the found centroids.\n",
    "\n",
    "Before printing them however, we need to undo all the transformations we've done before so that instead of having a pair of x and y coordinates, we have a date. For this we'll use the equation:\n",
    "$$\\alpha=atan2(y,x)$$"
   ]
  },
  {
   "cell_type": "code",
   "execution_count": 6,
   "metadata": {},
   "outputs": [
    {
     "name": "stdout",
     "output_type": "stream",
     "text": [
      "Best Days:\n",
      "  - 20 Dec:\n",
      "    * Blanca\n",
      "    * Selim\n",
      "    * Laure\n",
      "    * Mei\n",
      "    * Victor\n",
      "    * Pol\n",
      "    * Abril\n",
      "    * Miles\n",
      "  - 04 Jun:\n",
      "    * Júlia\n",
      "    * Sara\n",
      "    * Ona\n",
      "  - 20 Apr:\n",
      "    * Erik\n",
      "    * Sira\n",
      "    * Roc\n",
      "  - 07 Sep:\n",
      "    * Daan\n",
      "    * Amadeu\n",
      "  - 01 Mar:\n",
      "    * Jaume\n"
     ]
    }
   ],
   "source": [
    "# Coordinates to degrees\n",
    "anglify = lambda t: math.degrees(math.atan2(t[1], t[0]))\n",
    "\n",
    "# Denormalize\n",
    "denormalize = lambda t: 365*t/360\n",
    "\n",
    "# Day of Year to Actual Date\n",
    "toDay = lambda t: datetime(datetime.today().year + 1, 1, 1) + timedelta(round(t) - 1)\n",
    "\n",
    "# Inverse Transformation\n",
    "bestDays = np.array([toDay(denormalize(anglify(xi))) for xi in kmeans.cluster_centers_])\n",
    "\n",
    "# Print the result\n",
    "print(\"Best Days:\")\n",
    "i = 0\n",
    "for day in bestDays:\n",
    "    print(\"  - \" + day.strftime('%d %b') + \":\")\n",
    "    j = 0\n",
    "    for kid in y_pred:\n",
    "        if kid == i:\n",
    "            print(\"    * \" + df.Name[j])\n",
    "        j = j+1\n",
    "    i = i+1"
   ]
  },
  {
   "cell_type": "markdown",
   "metadata": {},
   "source": [
    "There you have it!"
   ]
  }
 ],
 "metadata": {
  "kernelspec": {
   "display_name": "Python 3",
   "language": "python",
   "name": "python3"
  },
  "language_info": {
   "codemirror_mode": {
    "name": "ipython",
    "version": 3
   },
   "file_extension": ".py",
   "mimetype": "text/x-python",
   "name": "python",
   "nbconvert_exporter": "python",
   "pygments_lexer": "ipython3",
   "version": "3.7.3"
  }
 },
 "nbformat": 4,
 "nbformat_minor": 2
}
